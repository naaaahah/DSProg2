{
 "cells": [
  {
   "cell_type": "code",
   "execution_count": 1,
   "metadata": {},
   "outputs": [],
   "source": [
    "#ライブラリインポート\n",
    "import sqlite3\n",
    "import pandas as pd\n",
    "import matplotlib.pyplot as plt"
   ]
  },
  {
   "cell_type": "code",
   "execution_count": 4,
   "metadata": {},
   "outputs": [],
   "source": [
    "conn = sqlite3.connect('opens.db')\n",
    "\n",
    "data_man = pd.read_sql_query(\"SELECT * FROM man;\", conn)\n",
    "data_fem = pd.read_sql_query(\"SELECT * FROM fem;\", conn)\n",
    "data_clsd = pd.read_sql_query(\"SELECT * FROM clsd;\", conn)\n",
    "\n",
    "conn.close()"
   ]
  },
  {
   "cell_type": "code",
   "execution_count": 7,
   "metadata": {},
   "outputs": [
    {
     "name": "stdout",
     "output_type": "stream",
     "text": [
      "    n5  5n6  6n7  7n8  8n9  9n\n",
      "0   13   69   84   39   10   6\n",
      "1   24   97   85   37   11   0\n",
      "2   51  158  149   58    9   2\n",
      "3   52  152  127   63   14   5\n",
      "4   36  154  207  118   42   7\n",
      "5   51  143  221  221  104  49\n",
      "6   13   69   84   39   10   6\n",
      "7   24   97   85   37   11   0\n",
      "8   51  158  149   58    9   2\n",
      "9   52  152  127   63   14   5\n",
      "10  36  154  207  118   42   7\n",
      "11  51  143  221  221  104  49\n",
      "12  13   69   84   39   10   6\n",
      "13  24   97   85   37   11   0\n",
      "14  51  158  149   58    9   2\n",
      "15  52  152  127   63   14   5\n",
      "16  36  154  207  118   42   7\n",
      "17  51  143  221  221  104  49\n"
     ]
    }
   ],
   "source": [
    "print(data_man)"
   ]
  },
  {
   "cell_type": "code",
   "execution_count": null,
   "metadata": {},
   "outputs": [],
   "source": []
  }
 ],
 "metadata": {
  "kernelspec": {
   "display_name": "Python 3",
   "language": "python",
   "name": "python3"
  },
  "language_info": {
   "codemirror_mode": {
    "name": "ipython",
    "version": 3
   },
   "file_extension": ".py",
   "mimetype": "text/x-python",
   "name": "python",
   "nbconvert_exporter": "python",
   "pygments_lexer": "ipython3",
   "version": "3.11.4"
  }
 },
 "nbformat": 4,
 "nbformat_minor": 2
}
